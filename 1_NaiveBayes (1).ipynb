{
  "nbformat": 4,
  "nbformat_minor": 0,
  "metadata": {
    "colab": {
      "name": "1_NaiveBayes.ipynb",
      "provenance": [],
      "collapsed_sections": [
        "Y1zyUWJhP3Ix",
        "BVbESp_oSJ06",
        "rLCOI-CpU0iL",
        "-1OVIiAJVWdS",
        "uU4Ff8c8VsjC",
        "GXV9diHkVx_Y",
        "_eEn-8dZDHjR",
        "oTrw2v6Ait3z"
      ]
    },
    "kernelspec": {
      "name": "python3",
      "display_name": "Python 3"
    },
    "language_info": {
      "name": "python"
    }
  },
  "cells": [
    {
      "cell_type": "markdown",
      "metadata": {
        "id": "Y1zyUWJhP3Ix"
      },
      "source": [
        "# Imports\n",
        "\n"
      ]
    },
    {
      "cell_type": "code",
      "metadata": {
        "id": "F6JaX_HsR38b"
      },
      "source": [
        "import pandas\n",
        "import pandas as pd\n",
        "from sklearn.naive_bayes import GaussianNB\n",
        "import matplotlib.pyplot as plt\n",
        "\n"
      ],
      "execution_count": 9,
      "outputs": []
    },
    {
      "cell_type": "markdown",
      "metadata": {
        "id": "nx54rHgTSJUr"
      },
      "source": [
        "# Naive Bayes\n"
      ]
    },
    {
      "cell_type": "code",
      "metadata": {
        "id": "5FyxYFs_Raxu"
      },
      "source": [
        "base_risco_heart = pd.read_csv('/content/heart.csv')\n",
        "X_risco_heart = base_risco_heart.iloc[:, 0:13].values\n",
        "Y_risco_heart = base_risco_heart.iloc[:, 13].values"
      ],
      "execution_count": 10,
      "outputs": []
    },
    {
      "cell_type": "code",
      "metadata": {
        "id": "26Yfemc4VwpZ",
        "colab": {
          "base_uri": "https://localhost:8080/"
        },
        "outputId": "2b21c479-9598-4e6f-d495-0bc3186b6694"
      },
      "source": [
        "naive_risco_heart = GaussianNB()\n",
        "naive_risco_heart.fit(X_risco_heart, Y_risco_heart)"
      ],
      "execution_count": 11,
      "outputs": [
        {
          "output_type": "execute_result",
          "data": {
            "text/plain": [
              "GaussianNB(priors=None, var_smoothing=1e-09)"
            ]
          },
          "metadata": {},
          "execution_count": 11
        }
      ]
    },
    {
      "cell_type": "markdown",
      "metadata": {
        "id": "BVbESp_oSJ06"
      },
      "source": [
        "#Testes"
      ]
    },
    {
      "cell_type": "markdown",
      "metadata": {
        "id": "rLCOI-CpU0iL"
      },
      "source": [
        "## Teste 1"
      ]
    },
    {
      "cell_type": "code",
      "metadata": {
        "id": "vr4ztf5Zfh-H"
      },
      "source": [
        "base_teste_1 = pd.read_csv('/content/Teste1.csv')\n",
        "X_teste_1 = base_teste_1.iloc[:, 0:13].values\n",
        "Y_teste_1 = base_teste_1.iloc[:, 13].values"
      ],
      "execution_count": 12,
      "outputs": []
    },
    {
      "cell_type": "code",
      "metadata": {
        "colab": {
          "base_uri": "https://localhost:8080/"
        },
        "id": "oZV4zAw7h4zb",
        "outputId": "183c9951-8e9c-47f0-e856-bd5b15a2ba34"
      },
      "source": [
        "Teste_1 = naive_risco_heart.predict(X_teste_1)\n",
        "Teste_1"
      ],
      "execution_count": 13,
      "outputs": [
        {
          "output_type": "execute_result",
          "data": {
            "text/plain": [
              "array([0, 0, 0, 1, 0, 1, 0, 0, 1, 0, 1, 0, 1, 0, 0, 1, 1, 0, 1, 1, 0, 1,\n",
              "       0, 1, 1, 0, 1, 1, 0, 0, 0, 1, 0, 0, 1, 0, 0, 1, 0, 1, 1, 1, 1, 1,\n",
              "       1, 1, 1, 0, 1, 0, 1, 0, 1, 0, 0, 0, 1, 1, 1, 1, 1, 1, 0, 1, 1, 1,\n",
              "       1, 0, 1, 0, 0, 0, 0, 0, 0, 1, 1, 0, 1, 1, 1, 1, 0, 1, 1, 1, 1, 0,\n",
              "       0, 0, 1, 1, 0, 0, 1, 1, 1, 0, 0, 1])"
            ]
          },
          "metadata": {},
          "execution_count": 13
        }
      ]
    },
    {
      "cell_type": "markdown",
      "metadata": {
        "id": "-1OVIiAJVWdS"
      },
      "source": [
        "## Teste 2"
      ]
    },
    {
      "cell_type": "code",
      "metadata": {
        "id": "F0TdPc6mV5d1"
      },
      "source": [
        "base_teste_2 = pd.read_csv('/content/Teste2.csv')\n",
        "X_teste_2 = base_teste_2.iloc[:, 0:13].values\n",
        "Y_teste_2 = base_teste_2.iloc[:, 13].values"
      ],
      "execution_count": 14,
      "outputs": []
    },
    {
      "cell_type": "code",
      "metadata": {
        "colab": {
          "base_uri": "https://localhost:8080/"
        },
        "id": "zeyTx6qIV5d-",
        "outputId": "d9566bf1-480a-462a-f89a-d13448cb0f85"
      },
      "source": [
        "Teste_2 = naive_risco_heart.predict(X_teste_2)\n",
        "Teste_2"
      ],
      "execution_count": 15,
      "outputs": [
        {
          "output_type": "execute_result",
          "data": {
            "text/plain": [
              "array([1, 1, 1, 1, 1, 0, 0, 0, 1, 0, 1, 0, 0, 0, 0, 0, 0, 0, 1, 1, 1, 0,\n",
              "       0, 1, 0, 1, 1, 1, 1, 1, 1, 1, 1, 1, 1, 0, 1, 0, 1, 1, 0, 0, 0, 1,\n",
              "       1, 0, 1, 1, 1, 1, 0, 0, 0, 1, 0, 1, 1, 1, 1, 1, 0, 0, 0, 1, 0, 0,\n",
              "       0, 1, 1, 1, 1, 0, 1, 1, 0, 0, 0, 0, 1, 0, 0, 0, 0, 1, 1, 0, 0, 0,\n",
              "       0, 0, 1, 1, 1, 1, 0, 1, 1, 1, 1, 0])"
            ]
          },
          "metadata": {},
          "execution_count": 15
        }
      ]
    },
    {
      "cell_type": "markdown",
      "metadata": {
        "id": "uU4Ff8c8VsjC"
      },
      "source": [
        "## Teste 3"
      ]
    },
    {
      "cell_type": "code",
      "metadata": {
        "id": "uXFv2IkHV6S8"
      },
      "source": [
        "base_teste_3 = pd.read_csv('/content/Teste3.csv')\n",
        "X_teste_3 = base_teste_3.iloc[:, 0:13].values\n",
        "Y_teste_3 = base_teste_3.iloc[:, 13].values"
      ],
      "execution_count": 16,
      "outputs": []
    },
    {
      "cell_type": "code",
      "metadata": {
        "colab": {
          "base_uri": "https://localhost:8080/"
        },
        "id": "I5AuLy6XV6S9",
        "outputId": "fd0144e2-cd0f-46fa-83f8-6b223f28be5e"
      },
      "source": [
        "Teste_3 = naive_risco_heart.predict(X_teste_3)\n",
        "Teste_3"
      ],
      "execution_count": 17,
      "outputs": [
        {
          "output_type": "execute_result",
          "data": {
            "text/plain": [
              "array([1, 1, 1, 1, 1, 1, 0, 1, 1, 0, 1, 0, 0, 1, 1, 1, 0, 1, 0, 0, 1, 0,\n",
              "       0, 1, 1, 1, 1, 1, 1, 0, 0, 1, 0, 1, 1, 1, 1, 1, 0, 0, 1, 1, 1, 0,\n",
              "       1, 1, 0, 0, 1, 1, 0, 1, 0, 0, 0, 1, 1, 0, 0, 1, 1, 1, 1, 1, 0, 0,\n",
              "       0, 0, 0, 1, 1, 1, 1, 0, 0, 0, 0, 1, 0, 1, 1, 1, 1, 0, 0, 1, 1, 1,\n",
              "       1, 1, 1, 0, 0, 1, 0, 0, 0, 0, 1, 1])"
            ]
          },
          "metadata": {},
          "execution_count": 17
        }
      ]
    },
    {
      "cell_type": "markdown",
      "metadata": {
        "id": "GXV9diHkVx_Y"
      },
      "source": [
        "## Teste 4"
      ]
    },
    {
      "cell_type": "code",
      "metadata": {
        "id": "NpOkPi0kV698"
      },
      "source": [
        "base_teste_4 = pd.read_csv('/content/Teste4.csv')\n",
        "X_teste_4 = base_teste_4.iloc[:, 0:13].values\n",
        "Y_teste_4 = base_teste_4.iloc[:, 13].values"
      ],
      "execution_count": 18,
      "outputs": []
    },
    {
      "cell_type": "code",
      "metadata": {
        "id": "P2K3ZI8GV699",
        "colab": {
          "base_uri": "https://localhost:8080/"
        },
        "outputId": "039b3260-9593-4588-9832-e58346d536b6"
      },
      "source": [
        "Teste_4 = naive_risco_heart.predict(X_teste_4)\n",
        "Teste_4"
      ],
      "execution_count": 19,
      "outputs": [
        {
          "output_type": "execute_result",
          "data": {
            "text/plain": [
              "array([1, 0, 1, 0, 1, 0, 1, 1, 0, 1, 0, 0, 0, 0, 1, 1, 1, 1, 0, 1, 1, 1,\n",
              "       0, 0, 1, 1, 0, 0, 0, 1, 1, 0, 0, 1, 0, 0, 1, 1, 0, 0, 1, 1, 1, 1,\n",
              "       1, 0, 0, 1, 0, 0, 1, 0, 0, 0, 1, 1, 0, 0, 1, 1, 1, 0, 1, 1, 1, 1,\n",
              "       0, 1, 0, 1, 0, 0, 1, 1, 1, 0, 1, 0, 0, 1, 0, 0, 0, 0, 0, 1, 1, 0,\n",
              "       0, 0, 1, 1, 1, 0, 0, 1, 0, 0, 0, 0])"
            ]
          },
          "metadata": {},
          "execution_count": 19
        }
      ]
    },
    {
      "cell_type": "markdown",
      "metadata": {
        "id": "_eEn-8dZDHjR"
      },
      "source": [
        "## Teste 5\n"
      ]
    },
    {
      "cell_type": "code",
      "metadata": {
        "id": "ZrrM0dnsDYHa"
      },
      "source": [
        "base_teste_5 = pd.read_csv('/content/Teste5.csv')\n",
        "X_teste_5 = base_teste_5.iloc[:, 0:13].values\n",
        "Y_teste_5 = base_teste_5.iloc[:, 13].values"
      ],
      "execution_count": 20,
      "outputs": []
    },
    {
      "cell_type": "code",
      "metadata": {
        "colab": {
          "base_uri": "https://localhost:8080/"
        },
        "id": "orKJVqdqDYHb",
        "outputId": "a0126076-958c-436c-f6f1-982e369ebff1"
      },
      "source": [
        "Teste_5 = naive_risco_heart.predict(X_teste_5)\n",
        "Teste_5"
      ],
      "execution_count": 21,
      "outputs": [
        {
          "output_type": "execute_result",
          "data": {
            "text/plain": [
              "array([0, 1, 1, 1, 0, 0, 1, 1, 1, 0, 1, 0, 0, 0, 1, 1, 1, 1, 1, 1, 1, 1,\n",
              "       1, 1, 0, 0, 1, 1, 0, 1, 1, 0, 1, 0, 1, 1, 0, 0, 1, 1, 0, 0, 0, 1,\n",
              "       1, 1, 1, 0, 1, 1, 0, 1, 0, 1, 0, 1, 1, 1, 1, 1, 0, 1, 1, 1, 1, 1,\n",
              "       1, 0, 0, 0, 1, 1, 1, 1, 1, 1, 0, 1, 1, 0, 0, 0, 0, 1, 0, 0, 1, 0,\n",
              "       1, 0, 1, 1, 0, 0, 1, 1, 0, 1, 1, 1])"
            ]
          },
          "metadata": {},
          "execution_count": 21
        }
      ]
    },
    {
      "cell_type": "markdown",
      "metadata": {
        "id": "oTrw2v6Ait3z"
      },
      "source": [
        "#Funções\n"
      ]
    },
    {
      "cell_type": "code",
      "metadata": {
        "id": "N1WozqrT8EH9"
      },
      "source": [
        "def Imprime( array):\n",
        "  i=0\n",
        "  t = 1 \n",
        "  while i<len(array): \n",
        "    print(\"Teste\", t, \":\", \"%.0f%%\" % (array[i]))\n",
        "    i = i + 1\n",
        "    t = t + 1\n",
        "\n",
        "  print('\\n')\n",
        "\n",
        "def acuracia(var1, var2, var3):\n",
        "  Acuracias.append((var1 + var2)/var3*100)\n",
        "\n",
        "def precisao(var1, var2):\n",
        "  Precisao.append(var1/(var1 + var2)*100)\n",
        "\n",
        "def recall(var1, var2):\n",
        "  Recall.append(var1/(var1 + var2)*100)\n",
        "\n",
        "def f1 (var1, var2):\n",
        "  f1_score.append(2*(var1 * var2)/(var1 + var2))\n",
        "\n",
        "def matriz_confusao(corretas, teste):\n",
        "  \n",
        "  respCorretas = pd.Series(corretas)\n",
        "  respTeste = pd.Series(teste)\n",
        "  \n",
        "  m_Confusao = pd.crosstab(respCorretas, respTeste, rownames=['Respostas entregues'], colnames=['Respostas possíveis'])\n",
        "  acuracia(m_Confusao[0][0], m_Confusao[1][1], len(teste))\n",
        "  recall(m_Confusao[1][1], m_Confusao[1][0])\n",
        "  precisao(m_Confusao[1][1], m_Confusao[0][1])\n",
        "  \n",
        "  i=0\n",
        "  if len(Precisao) and len(Recall) > 1:\n",
        "    i = len(Precisao) - 1\n",
        "    f1(Precisao[i], Recall[i])\n",
        "  \n",
        "  elif len(Precisao) and len(Recall) == 1:\n",
        "    f1(Precisao[0], Recall[0])\n",
        "  \n",
        "  return m_Confusao\n"
      ],
      "execution_count": 22,
      "outputs": []
    },
    {
      "cell_type": "markdown",
      "metadata": {
        "id": "duMJyCyEQ2pQ"
      },
      "source": [
        "# Analíses\n",
        "\n"
      ]
    },
    {
      "cell_type": "code",
      "metadata": {
        "id": "8WK9MLJZ6hGX"
      },
      "source": [
        "Acuracias = []\n",
        "Precisao = []\n",
        "Recall = []\n",
        "f1_score = []"
      ],
      "execution_count": 24,
      "outputs": []
    },
    {
      "cell_type": "markdown",
      "metadata": {
        "id": "8oGSShvJfK1C"
      },
      "source": [
        "**Matriz de confusão (Teste 1)**"
      ]
    },
    {
      "cell_type": "code",
      "metadata": {
        "id": "CmJhsvT-dL8P",
        "colab": {
          "base_uri": "https://localhost:8080/",
          "height": 142
        },
        "outputId": "f703434e-99f7-44ef-d5ed-afe527266f74"
      },
      "source": [
        "confusao1 = matriz_confusao(Y_teste_1, Teste_1)\n",
        "confusao1            "
      ],
      "execution_count": 25,
      "outputs": [
        {
          "output_type": "execute_result",
          "data": {
            "text/html": [
              "<div>\n",
              "<style scoped>\n",
              "    .dataframe tbody tr th:only-of-type {\n",
              "        vertical-align: middle;\n",
              "    }\n",
              "\n",
              "    .dataframe tbody tr th {\n",
              "        vertical-align: top;\n",
              "    }\n",
              "\n",
              "    .dataframe thead th {\n",
              "        text-align: right;\n",
              "    }\n",
              "</style>\n",
              "<table border=\"1\" class=\"dataframe\">\n",
              "  <thead>\n",
              "    <tr style=\"text-align: right;\">\n",
              "      <th>Respostas possíveis</th>\n",
              "      <th>0</th>\n",
              "      <th>1</th>\n",
              "    </tr>\n",
              "    <tr>\n",
              "      <th>Respostas entregues</th>\n",
              "      <th></th>\n",
              "      <th></th>\n",
              "    </tr>\n",
              "  </thead>\n",
              "  <tbody>\n",
              "    <tr>\n",
              "      <th>0</th>\n",
              "      <td>42</td>\n",
              "      <td>11</td>\n",
              "    </tr>\n",
              "    <tr>\n",
              "      <th>1</th>\n",
              "      <td>3</td>\n",
              "      <td>44</td>\n",
              "    </tr>\n",
              "  </tbody>\n",
              "</table>\n",
              "</div>"
            ],
            "text/plain": [
              "Respostas possíveis   0   1\n",
              "Respostas entregues        \n",
              "0                    42  11\n",
              "1                     3  44"
            ]
          },
          "metadata": {},
          "execution_count": 25
        }
      ]
    },
    {
      "cell_type": "markdown",
      "metadata": {
        "id": "9EC1HN_ffS0R"
      },
      "source": [
        "**Matriz de confusão (Teste 2)**"
      ]
    },
    {
      "cell_type": "code",
      "metadata": {
        "id": "BMY7UrG5eWQL",
        "colab": {
          "base_uri": "https://localhost:8080/",
          "height": 142
        },
        "outputId": "70b8b27b-7670-480e-e03f-a2c7e3825ffb"
      },
      "source": [
        "confusao2 = matriz_confusao(Y_teste_2, Teste_2)\n",
        "confusao2"
      ],
      "execution_count": 26,
      "outputs": [
        {
          "output_type": "execute_result",
          "data": {
            "text/html": [
              "<div>\n",
              "<style scoped>\n",
              "    .dataframe tbody tr th:only-of-type {\n",
              "        vertical-align: middle;\n",
              "    }\n",
              "\n",
              "    .dataframe tbody tr th {\n",
              "        vertical-align: top;\n",
              "    }\n",
              "\n",
              "    .dataframe thead th {\n",
              "        text-align: right;\n",
              "    }\n",
              "</style>\n",
              "<table border=\"1\" class=\"dataframe\">\n",
              "  <thead>\n",
              "    <tr style=\"text-align: right;\">\n",
              "      <th>Respostas possíveis</th>\n",
              "      <th>0</th>\n",
              "      <th>1</th>\n",
              "    </tr>\n",
              "    <tr>\n",
              "      <th>Respostas entregues</th>\n",
              "      <th></th>\n",
              "      <th></th>\n",
              "    </tr>\n",
              "  </thead>\n",
              "  <tbody>\n",
              "    <tr>\n",
              "      <th>0</th>\n",
              "      <td>42</td>\n",
              "      <td>6</td>\n",
              "    </tr>\n",
              "    <tr>\n",
              "      <th>1</th>\n",
              "      <td>4</td>\n",
              "      <td>48</td>\n",
              "    </tr>\n",
              "  </tbody>\n",
              "</table>\n",
              "</div>"
            ],
            "text/plain": [
              "Respostas possíveis   0   1\n",
              "Respostas entregues        \n",
              "0                    42   6\n",
              "1                     4  48"
            ]
          },
          "metadata": {},
          "execution_count": 26
        }
      ]
    },
    {
      "cell_type": "code",
      "metadata": {
        "id": "oJjzpwd83BzV"
      },
      "source": [
        ""
      ],
      "execution_count": 26,
      "outputs": []
    },
    {
      "cell_type": "markdown",
      "metadata": {
        "id": "7jFNUv6pfVBy"
      },
      "source": [
        "**Matriz de confusão (Teste 3)**"
      ]
    },
    {
      "cell_type": "code",
      "metadata": {
        "colab": {
          "base_uri": "https://localhost:8080/",
          "height": 142
        },
        "id": "UoFVfugveafj",
        "outputId": "86c305aa-e07a-4408-98d1-d8c1558bb2b9"
      },
      "source": [
        "confusao3 = matriz_confusao(Y_teste_3, Teste_3)\n",
        "confusao3\n"
      ],
      "execution_count": 27,
      "outputs": [
        {
          "output_type": "execute_result",
          "data": {
            "text/html": [
              "<div>\n",
              "<style scoped>\n",
              "    .dataframe tbody tr th:only-of-type {\n",
              "        vertical-align: middle;\n",
              "    }\n",
              "\n",
              "    .dataframe tbody tr th {\n",
              "        vertical-align: top;\n",
              "    }\n",
              "\n",
              "    .dataframe thead th {\n",
              "        text-align: right;\n",
              "    }\n",
              "</style>\n",
              "<table border=\"1\" class=\"dataframe\">\n",
              "  <thead>\n",
              "    <tr style=\"text-align: right;\">\n",
              "      <th>Respostas possíveis</th>\n",
              "      <th>0</th>\n",
              "      <th>1</th>\n",
              "    </tr>\n",
              "    <tr>\n",
              "      <th>Respostas entregues</th>\n",
              "      <th></th>\n",
              "      <th></th>\n",
              "    </tr>\n",
              "  </thead>\n",
              "  <tbody>\n",
              "    <tr>\n",
              "      <th>0</th>\n",
              "      <td>34</td>\n",
              "      <td>6</td>\n",
              "    </tr>\n",
              "    <tr>\n",
              "      <th>1</th>\n",
              "      <td>7</td>\n",
              "      <td>53</td>\n",
              "    </tr>\n",
              "  </tbody>\n",
              "</table>\n",
              "</div>"
            ],
            "text/plain": [
              "Respostas possíveis   0   1\n",
              "Respostas entregues        \n",
              "0                    34   6\n",
              "1                     7  53"
            ]
          },
          "metadata": {},
          "execution_count": 27
        }
      ]
    },
    {
      "cell_type": "markdown",
      "metadata": {
        "id": "tag3oOIwfXc5"
      },
      "source": [
        "**Matriz de confusão (Teste 4)**"
      ]
    },
    {
      "cell_type": "code",
      "metadata": {
        "colab": {
          "base_uri": "https://localhost:8080/",
          "height": 142
        },
        "id": "Y3InBSEHeew8",
        "outputId": "9be2a5c5-9c7d-41e6-defb-8ea8a2965db5"
      },
      "source": [
        "confusao4 = matriz_confusao(Y_teste_4, Teste_4)\n",
        "confusao4"
      ],
      "execution_count": 28,
      "outputs": [
        {
          "output_type": "execute_result",
          "data": {
            "text/html": [
              "<div>\n",
              "<style scoped>\n",
              "    .dataframe tbody tr th:only-of-type {\n",
              "        vertical-align: middle;\n",
              "    }\n",
              "\n",
              "    .dataframe tbody tr th {\n",
              "        vertical-align: top;\n",
              "    }\n",
              "\n",
              "    .dataframe thead th {\n",
              "        text-align: right;\n",
              "    }\n",
              "</style>\n",
              "<table border=\"1\" class=\"dataframe\">\n",
              "  <thead>\n",
              "    <tr style=\"text-align: right;\">\n",
              "      <th>Respostas possíveis</th>\n",
              "      <th>0</th>\n",
              "      <th>1</th>\n",
              "    </tr>\n",
              "    <tr>\n",
              "      <th>Respostas entregues</th>\n",
              "      <th></th>\n",
              "      <th></th>\n",
              "    </tr>\n",
              "  </thead>\n",
              "  <tbody>\n",
              "    <tr>\n",
              "      <th>0</th>\n",
              "      <td>40</td>\n",
              "      <td>7</td>\n",
              "    </tr>\n",
              "    <tr>\n",
              "      <th>1</th>\n",
              "      <td>11</td>\n",
              "      <td>42</td>\n",
              "    </tr>\n",
              "  </tbody>\n",
              "</table>\n",
              "</div>"
            ],
            "text/plain": [
              "Respostas possíveis   0   1\n",
              "Respostas entregues        \n",
              "0                    40   7\n",
              "1                    11  42"
            ]
          },
          "metadata": {},
          "execution_count": 28
        }
      ]
    },
    {
      "cell_type": "markdown",
      "metadata": {
        "id": "LP1yoAXgfCVK"
      },
      "source": [
        "**Matriz de confusão (Teste 5)**"
      ]
    },
    {
      "cell_type": "code",
      "metadata": {
        "colab": {
          "base_uri": "https://localhost:8080/",
          "height": 142
        },
        "id": "mRjdHt-MD0wg",
        "outputId": "45df39bf-7df6-4cc3-fd6f-678d20f36714"
      },
      "source": [
        "confusao5 = matriz_confusao(Y_teste_5, Teste_5)\n",
        "confusao5"
      ],
      "execution_count": 29,
      "outputs": [
        {
          "output_type": "execute_result",
          "data": {
            "text/html": [
              "<div>\n",
              "<style scoped>\n",
              "    .dataframe tbody tr th:only-of-type {\n",
              "        vertical-align: middle;\n",
              "    }\n",
              "\n",
              "    .dataframe tbody tr th {\n",
              "        vertical-align: top;\n",
              "    }\n",
              "\n",
              "    .dataframe thead th {\n",
              "        text-align: right;\n",
              "    }\n",
              "</style>\n",
              "<table border=\"1\" class=\"dataframe\">\n",
              "  <thead>\n",
              "    <tr style=\"text-align: right;\">\n",
              "      <th>Respostas possíveis</th>\n",
              "      <th>0</th>\n",
              "      <th>1</th>\n",
              "    </tr>\n",
              "    <tr>\n",
              "      <th>Respostas entregues</th>\n",
              "      <th></th>\n",
              "      <th></th>\n",
              "    </tr>\n",
              "  </thead>\n",
              "  <tbody>\n",
              "    <tr>\n",
              "      <th>0</th>\n",
              "      <td>34</td>\n",
              "      <td>12</td>\n",
              "    </tr>\n",
              "    <tr>\n",
              "      <th>1</th>\n",
              "      <td>3</td>\n",
              "      <td>51</td>\n",
              "    </tr>\n",
              "  </tbody>\n",
              "</table>\n",
              "</div>"
            ],
            "text/plain": [
              "Respostas possíveis   0   1\n",
              "Respostas entregues        \n",
              "0                    34  12\n",
              "1                     3  51"
            ]
          },
          "metadata": {},
          "execution_count": 29
        }
      ]
    },
    {
      "cell_type": "markdown",
      "metadata": {
        "id": "S0EXpsvsfG5y"
      },
      "source": [
        "**Gráficos (Acurácia, precisão, recall e f1-score)**"
      ]
    },
    {
      "cell_type": "code",
      "metadata": {
        "colab": {
          "base_uri": "https://localhost:8080/",
          "height": 424
        },
        "id": "Z4cmRj5ngcr5",
        "outputId": "36ddc229-0b6d-4487-9530-c505df4f3e0c"
      },
      "source": [
        "\n",
        "x = [\"Teste 1\", \"Teste 2\", \"Teste 3\", \"Teste 4\", \"Teste 5\"]\n",
        "plt.style.use(\"seaborn-dark\")\n",
        "plt.grid(True)\n",
        "plt.ylabel('Porcentagem %')\n",
        "plt.xlabel('Testes')\n",
        "plt.title(\"Acurácia dos testes:\\n\")\n",
        "plt.plot(x, Acuracias, color='green')\n",
        "plt.scatter(x, Acuracias, color='red')\n",
        "plt.show()\n",
        "Imprime(Acuracias)"
      ],
      "execution_count": 30,
      "outputs": [
        {
          "output_type": "display_data",
          "data": {
            "image/png": "[encoded data removed]",
            "text/plain": [
              "<Figure size 432x288 with 1 Axes>"
            ]
          },
          "metadata": {}
        },
        {
          "output_type": "stream",
          "name": "stdout",
          "text": [
            "Teste 1 : 86%\n",
            "Teste 2 : 90%\n",
            "Teste 3 : 87%\n",
            "Teste 4 : 82%\n",
            "Teste 5 : 85%\n",
            "\n",
            "\n"
          ]
        }
      ]
    },
    {
      "cell_type": "code",
      "metadata": {
        "colab": {
          "base_uri": "https://localhost:8080/",
          "height": 424
        },
        "id": "OekC-BHQM8Fd",
        "outputId": "36fa5846-5ba3-45ed-b783-fa34d34ccdfc"
      },
      "source": [
        "plt.style.use(\"seaborn-dark\")\n",
        "plt.grid(True)\n",
        "plt.ylabel('Porcentagem %')\n",
        "plt.xlabel('Testes')\n",
        "plt.title(\"Precisão dos testes:\\n\")\n",
        "plt.plot(x, Precisao, color='green')\n",
        "plt.scatter(x, Precisao, color='red')\n",
        "plt.show()\n",
        "Imprime(Precisao)"
      ],
      "execution_count": 31,
      "outputs": [
        {
          "output_type": "display_data",
          "data": {
            "image/png": "[encoded data removed]",
            "text/plain": [
              "<Figure size 432x288 with 1 Axes>"
            ]
          },
          "metadata": {}
        },
        {
          "output_type": "stream",
          "name": "stdout",
          "text": [
            "Teste 1 : 94%\n",
            "Teste 2 : 92%\n",
            "Teste 3 : 88%\n",
            "Teste 4 : 79%\n",
            "Teste 5 : 94%\n",
            "\n",
            "\n"
          ]
        }
      ]
    },
    {
      "cell_type": "code",
      "metadata": {
        "colab": {
          "base_uri": "https://localhost:8080/",
          "height": 424
        },
        "id": "_TNM9TK6GabP",
        "outputId": "b4a0ef6c-ffac-4434-f07a-953c422ace5a"
      },
      "source": [
        "\n",
        "plt.style.use(\"seaborn-dark\")\n",
        "plt.grid(True)\n",
        "plt.ylabel('Porcentagem %')\n",
        "plt.xlabel('Testes')\n",
        "plt.title(\"Recall dos testes:\\n\")\n",
        "plt.plot(x, Recall, color='green')\n",
        "plt.scatter(x, Recall, color='red')\n",
        "plt.show()\n",
        "Imprime(Recall)"
      ],
      "execution_count": 32,
      "outputs": [
        {
          "output_type": "display_data",
          "data": {
            "image/png": "[encoded data removed]",
            "text/plain": [
              "<Figure size 432x288 with 1 Axes>"
            ]
          },
          "metadata": {}
        },
        {
          "output_type": "stream",
          "name": "stdout",
          "text": [
            "Teste 1 : 80%\n",
            "Teste 2 : 89%\n",
            "Teste 3 : 90%\n",
            "Teste 4 : 86%\n",
            "Teste 5 : 81%\n",
            "\n",
            "\n"
          ]
        }
      ]
    },
    {
      "cell_type": "code",
      "metadata": {
        "colab": {
          "base_uri": "https://localhost:8080/",
          "height": 424
        },
        "id": "1dTQl9FWRmRV",
        "outputId": "1dbb2ccc-94ad-44b6-e8ea-ce78553b8dde"
      },
      "source": [
        "\n",
        "plt.style.use(\"seaborn-dark\")\n",
        "plt.grid(True)\n",
        "plt.ylabel('Porcentagem %')\n",
        "plt.xlabel('Testes')\n",
        "plt.title(\"F1-score dos testes:\\n\")\n",
        "plt.plot(x, f1_score, color='green')\n",
        "plt.scatter(x, f1_score, color='red')\n",
        "plt.show()\n",
        "Imprime(f1_score)"
      ],
      "execution_count": 33,
      "outputs": [
        {
          "output_type": "display_data",
          "data": {
            "image/png": "[encoded data removed]",
            "text/plain": [
              "<Figure size 432x288 with 1 Axes>"
            ]
          },
          "metadata": {}
        },
        {
          "output_type": "stream",
          "name": "stdout",
          "text": [
            "Teste 1 : 86%\n",
            "Teste 2 : 91%\n",
            "Teste 3 : 89%\n",
            "Teste 4 : 82%\n",
            "Teste 5 : 87%\n",
            "\n",
            "\n"
          ]
        }
      ]
    }
  ]
}